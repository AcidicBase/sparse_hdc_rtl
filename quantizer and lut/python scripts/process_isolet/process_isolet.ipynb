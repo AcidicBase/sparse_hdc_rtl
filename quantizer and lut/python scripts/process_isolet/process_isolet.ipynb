{
 "cells": [
  {
   "cell_type": "code",
   "execution_count": 1,
   "metadata": {},
   "outputs": [],
   "source": [
    "import pandas as pd\n",
    "import numpy as np"
   ]
  },
  {
   "cell_type": "code",
   "execution_count": 11,
   "metadata": {},
   "outputs": [],
   "source": [
    "isolet = pd.read_csv(\"isolet_dataset/isolet1+2+3+4.csv\", header=None)\n",
    "train_X = isolet[list(range(0,617))]"
   ]
  },
  {
   "cell_type": "code",
   "execution_count": 3,
   "metadata": {},
   "outputs": [],
   "source": [
    "def unsigned_int_to_binary(int_num):\n",
    "    return '{0:016b}'.format(int_num)\n",
    "\n",
    "def twos_compliment(binary):\n",
    "    first_one_found = False\n",
    "    result = \"\"\n",
    "    for i in range(len(binary)-1,-1,-1):\n",
    "        if not first_one_found and binary[i] == '1':\n",
    "            first_one_found = True\n",
    "            result = binary[i] + result\n",
    "            continue\n",
    "        \n",
    "        if first_one_found:\n",
    "            if binary[i] == '1':\n",
    "                result  = '0' + result\n",
    "            else:\n",
    "                result = '1' + result\n",
    "        else:\n",
    "            result = binary[i] + result\n",
    "    \n",
    "    return result\n",
    "\n",
    "def signed_int_to_binary(int_num):\n",
    "    if int_num > 0:\n",
    "        return unsigned_int_to_binary(int_num)\n",
    "    else:\n",
    "        return twos_compliment(unsigned_int_to_binary(int_num))"
   ]
  },
  {
   "cell_type": "code",
   "execution_count": 32,
   "metadata": {},
   "outputs": [],
   "source": [
    "for i in range(0, len(train_X)):\n",
    "    converted_sample = np.vectorize(signed_int_to_binary)((train_X.iloc[i]*10000).astype(int))\n",
    "    f = open(\"converted_samples/sample_{}.txt\".format(i), \"w+\")\n",
    "\n",
    "    for x in range(0, len(converted_sample)):\n",
    "        f.write(converted_sample[x])\n",
    "        if(x<len(converted_sample)-1):\n",
    "            f.write(\"\\n\")\n",
    "\n",
    "    f.close()"
   ]
  },
  {
   "cell_type": "code",
   "execution_count": null,
   "metadata": {},
   "outputs": [],
   "source": []
  }
 ],
 "metadata": {
  "kernelspec": {
   "display_name": "Python 3",
   "language": "python",
   "name": "python3"
  },
  "language_info": {
   "codemirror_mode": {
    "name": "ipython",
    "version": 3
   },
   "file_extension": ".py",
   "mimetype": "text/x-python",
   "name": "python",
   "nbconvert_exporter": "python",
   "pygments_lexer": "ipython3",
   "version": "3.8.5"
  }
 },
 "nbformat": 4,
 "nbformat_minor": 4
}
